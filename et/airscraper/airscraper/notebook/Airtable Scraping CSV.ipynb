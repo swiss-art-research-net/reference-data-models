{
 "cells": [
  {
   "cell_type": "markdown",
   "metadata": {},
   "source": [
    "# Airtable Scraping\n",
    "\n",
    "## Requirements\n",
    "\n",
    "For scraping, I don't want to use unnecessary package, so basically the only requirement to be installed is `beautifulsoup4`, so just install it and you're ready to go!"
   ]
  },
  {
   "cell_type": "code",
   "execution_count": 72,
   "metadata": {},
   "outputs": [
    {
     "name": "stdout",
     "output_type": "stream",
     "text": [
      "Collecting package metadata (current_repodata.json): ...working... done\n",
      "Solving environment: ...working... done\n",
      "\n",
      "## Package Plan ##\n",
      "\n",
      "  environment location: /home/banditelol/miniconda3\n",
      "\n",
      "  added / updated specs:\n",
      "    - beautifulsoup4\n",
      "    - pandas\n",
      "\n",
      "\n",
      "The following packages will be downloaded:\n",
      "\n",
      "    package                    |            build\n",
      "    ---------------------------|-----------------\n",
      "    beautifulsoup4-4.9.1       |           py38_0         171 KB\n",
      "    conda-4.8.4                |           py38_0         2.8 MB\n",
      "    ------------------------------------------------------------\n",
      "                                           Total:         3.0 MB\n",
      "\n",
      "The following packages will be UPDATED:\n",
      "\n",
      "  ca-certificates    conda-forge::ca-certificates-2020.6.2~ --> pkgs/main::ca-certificates-2020.7.22-0\n",
      "\n",
      "The following packages will be SUPERSEDED by a higher-priority channel:\n",
      "\n",
      "  beautifulsoup4     conda-forge/noarch::beautifulsoup4-4.~ --> pkgs/main/linux-64::beautifulsoup4-4.9.1-py38_0\n",
      "  certifi            conda-forge::certifi-2020.6.20-py38h3~ --> pkgs/main::certifi-2020.6.20-py38_0\n",
      "  conda              conda-forge::conda-4.8.4-py38h32f6830~ --> pkgs/main::conda-4.8.4-py38_0\n",
      "  openssl            conda-forge::openssl-1.1.1g-h516909a_1 --> pkgs/main::openssl-1.1.1g-h7b6447c_0\n",
      "  pandas             conda-forge::pandas-1.1.1-py38h950e88~ --> pkgs/main::pandas-1.1.1-py38he6710b0_0\n",
      "\n",
      "\n",
      "Preparing transaction: ...working... done\n",
      "Verifying transaction: ...working... done\n",
      "Executing transaction: ...working... done\n"
     ]
    }
   ],
   "source": [
    "!conda install beautifulsoup4 -q -y\n",
    "\n",
    "#or using pip\n",
    "\n",
    "#!pip install beautifulsoup4"
   ]
  },
  {
   "cell_type": "markdown",
   "metadata": {},
   "source": [
    "## Package Used\n",
    "\n",
    "We'll need the following package to be able to get csv data from airtable\n",
    "- `requests` to make an HTTP requests\n",
    "- `re` will be used to extract string using regular expression\n",
    "- `bs4` is actually not a must need, but it feels ridiculous to work with html text without this package"
   ]
  },
  {
   "cell_type": "code",
   "execution_count": 69,
   "metadata": {},
   "outputs": [],
   "source": [
    "import requests\n",
    "import re\n",
    "from bs4 import BeautifulSoup as bs"
   ]
  },
  {
   "cell_type": "markdown",
   "metadata": {},
   "source": [
    "## Setup Some Variables\n",
    "\n",
    "There are several constant that we can setup in the beginning and can be changed according to your needs. Make sure to change the `table` constant according to your shared table URL."
   ]
  },
  {
   "cell_type": "code",
   "execution_count": 59,
   "metadata": {},
   "outputs": [],
   "source": [
    "table = \"https://airtable.com/shr5aMEsXCxORIwhk\"\n",
    "locale = \"en\"\n",
    "time_zone = \"Asia%2FJakarta\"\n",
    "\n",
    "html = bs(requests.get(table).text)"
   ]
  },
  {
   "cell_type": "markdown",
   "metadata": {},
   "source": [
    "## Extract Necessary Parameters\n",
    "\n",
    "As mentioned in my post, we need to extract the necessary parameters. But first, because all of the necessary information exists in the `<script>` tag after the `<title>` tag, thus we'll just extract the content"
   ]
  },
  {
   "cell_type": "code",
   "execution_count": 60,
   "metadata": {},
   "outputs": [
    {
     "name": "stdout",
     "output_type": "stream",
     "text": [
      "<script nonce=\"NxeRTfdEJIet\">\n",
      " (function() {\n",
      "if (window.fetch) {\n",
      "var headers = {\"x-user-locale\":\"*\",\"x-airtable-application-id\":\"app7CUJtL7vQWbiDA\",\"x-airtable-page-load-id\":\"pgls0eXzGWD71wQ5I\",\"X-Requested-With\":\"XMLHttpRequest\",\"x-airtable-inter-service-client\":\"webClient\",\"ot-tracer-spanid\":\"32a9ea54746ed308\",\"ot-tracer-traceid\":\"786fcdcf605dbd68\",\"ot-tracer-sampled\":\"true\"};\n",
      "headers['x-time-zone'] = Intl.DateTimeFormat() ? Intl.DateTimeFormat().resolvedOptions().timeZone : 'UTC';\n",
      "var timeoutPromise = new Promise(function(resolve, reject) {\n",
      "setTimeout(\n",
      "function() { reject('timeout'); },\n",
      "30000);\n",
      "});\n",
      "window.__stashedPrefetch = {\n",
      "metadata: {\"method\":\"get\",\"url\":\"\\u002Fv0.3\\u002Fview\\u002FviwJuiikzJnQ0cyqj\\u002FreadSharedViewData\",\"objectParams\":{\"shouldUseNestedResponseFormat\":true}},\n",
      "earlyPrefetchSpan: {\"ot-tracer-spanid\":\"32a9ea54746ed308\",\"ot-tracer-traceid\":\"786fcdcf605dbd68\",\"ot-tracer-sampled\":\"true\"},\n",
      "fetchStartTimeMs: Date.now(),\n",
      "requestId: \"req6GxdPUZVFYnHOk\",\n",
      "timeoutPromise: timeoutPromise,\n",
      "promise: Promise.race([\n",
      "timeoutPromise,\n",
      "fetch(\"\\u002Fv0.3\\u002Fview\\u002FviwJuiikzJnQ0cyqj\\u002FreadSharedViewData?stringifiedObjectParams=%7B%22shouldUseNestedResponseFormat%22%3Atrue%7D&requestId=req6GxdPUZVFYnHOk&accessPolicy=%7B%22allowedActions%22%3A%5B%7B%22modelClassName%22%3A%22view%22%2C%22modelIdSelector%22%3A%22viwJuiikzJnQ0cyqj%22%2C%22action%22%3A%22readSharedViewData%22%7D%2C%7B%22modelClassName%22%3A%22view%22%2C%22modelIdSelector%22%3A%22viwJuiikzJnQ0cyqj%22%2C%22action%22%3A%22getMetadataForPrinting%22%7D%2C%7B%22modelClassName%22%3A%22row%22%2C%22modelIdSelector%22%3A%22rows%20*%5BdisplayedInView%3DviwJuiikzJnQ0cyqj%5D%22%2C%22action%22%3A%22createBoxDocumentSession%22%7D%2C%7B%22modelClassName%22%3A%22row%22%2C%22modelIdSelector%22%3A%22rows%20*%5BdisplayedInView%3DviwJuiikzJnQ0cyqj%5D%22%2C%22action%22%3A%22createDocumentPreviewSession%22%7D%2C%7B%22modelClassName%22%3A%22view%22%2C%22modelIdSelector%22%3A%22viwJuiikzJnQ0cyqj%22%2C%22action%22%3A%22downloadCsv%22%7D%2C%7B%22modelClassName%22%3A%22view%22%2C%22modelIdSelector%22%3A%22viwJuiikzJnQ0cyqj%22%2C%22action%22%3A%22downloadICal%22%7D%2C%7B%22modelClassName%22%3A%22row%22%2C%22modelIdSelector%22%3A%22rows%20*%5BdisplayedInView%3DviwJuiikzJnQ0cyqj%5D%22%2C%22action%22%3A%22downloadAttachment%22%7D%5D%2C%22shareId%22%3A%22shr5aMEsXCxORIwhk%22%2C%22applicationId%22%3A%22app7CUJtL7vQWbiDA%22%2C%22sessionId%22%3A%22sesiUV4BIy6enetMG%22%2C%22generationNumber%22%3A0%2C%22signature%22%3A%2209de253edb2a244306eeb2b0b15bfd353957ddb41f94f45ac31261c29b417aa2%22%7D\", {\n",
      "method: \"get\",\n",
      "headers: headers,\n",
      "body: null}),\n",
      "])\n",
      "}\n",
      "setTimeout(function() {\n",
      "if (window.__stashedPrefetch) {\n",
      "if (window.__stashedPrefetch.onTimeout) {\n",
      "window.__stashedPrefetch.onTimeout();\n",
      "}\n",
      "window.__stashedPrefetch = null;\n",
      "}\n",
      "}, 60000);\n",
      "}\n",
      "})();\n",
      "</script>\n",
      "\n"
     ]
    }
   ],
   "source": [
    "script = html.title.find_next('script')\n",
    "print(script.prettify())"
   ]
  },
  {
   "cell_type": "markdown",
   "metadata": {},
   "source": [
    "Now with the search scope narrowed we need to find the following informations:\n",
    "\n",
    "- **ViewId** : a sequence of alphanumeric string starting with `viw`\n",
    "- **AccessPolicy** : a URL encoded string preceded by `accessPolicy=`\n",
    "- **AppId** : a sequence of alphanumeric string starting with `app` and preceded by `x-airtable-application-id` \n",
    "\n",
    "After we've found those parameters, we could now build the dictionary to help us in building the download requests later."
   ]
  },
  {
   "cell_type": "code",
   "execution_count": 61,
   "metadata": {},
   "outputs": [],
   "source": [
    "view_id = re.search(r\"(viw[a-zA-Z0-9]+)\",str(script)).group(1)\n",
    "access_policy = re.search(r\"accessPolicy=([a-zA-Z0-9%*]+)\",str(script)).group(1)\n",
    "app_id = re.search(r\"\\\"x-airtable-application-id\\\":\\\"(app[a-zA-Z0-9]+)\",str(script)).group(1)\n",
    "\n",
    "params = {\"x-time-zone\":time_zone, \"x-user-locale\":locale, \"x-airtable-application-id\":app_id , \"accessPolicy\":access_policy}"
   ]
  },
  {
   "cell_type": "markdown",
   "metadata": {},
   "source": [
    "## Build the Request URL\n"
   ]
  },
  {
   "cell_type": "code",
   "execution_count": 64,
   "metadata": {},
   "outputs": [
    {
     "name": "stdout",
     "output_type": "stream",
     "text": [
      "﻿Story name,User want,Server points,Client points,Built?,Needs review,Facet,Epics,Blocks release,Sprint,Release seq. no.,Blocking stories,So that,FhabTask,P[?],Server eng. tasks,Client eng. tasks,Notes,FhabURL\n",
      "S143: Improve adapter saltwater resistance,Improve adapter saltwater resistance,5,1,,checked,Adapter,E113: Amphibious vehicle support,007/in-beta partnership,Backlog — required,4,,\"in case the adapter gets dropped in the ocean, it still works\",13906,,,,,https://fhabricator.automatic.co/T13906\n",
      "S133: Voiced alert when flux capacitor disconnected from adapter,Voiced alert when flux capacitor disconnected from adapter,5,8,checked,,Device connection,E110: Temporal displacement UX refinements,Beta1,Backlog — required,3,,fewer time travel accidents,12324,,,,,https://fhabricator.automatic.co/T12324\n",
      "S138: Change progress bar graphics for giant robot transformation sequence,Change progress bar graphics for giant robot transformation sequence,2,3,checked,,Global,\"E106: Full release style refinement,E117: Robot transformation sequence\",Full release,Backlog — required,5,,\"the graphics look more \"\"robotic\"\"\",13452,,,,,https://fhabricator.automatic.co/T13452\n",
      "S142: Improved graphics on time travel analytics dashboard,Improved graphics on time travel analytics dashboard,,,,checked,Insight: drive score,E110: Temporal displacement UX refinements,No hard requirement,Backlog — required,100,,I can see all of the aggregated data from my time travel trips at a glance,13987,,,,,https://fhabricator.automatic.co/T13987\n",
      "\"S146: Adapter will say a friendly \"\"Hello!\"\" upon registered driver entering vehicle\",\"Adapter will say a friendly \"\"Hello!\"\" upon registered driver entering vehicle\",3,3,,,Welcome experience,E116: Robot AI (emotional components),MIP MVP,Elise,1,,I'll feel more emotionally connected to my car,13872,,,,,https://fhabricator.automatic.co/T13872\n",
      "S139: Adapter warns me when time jump will take >1.21 jigowatts,Adapter warns me when time jump will take >1.21 jigowatts,5,5,checked,checked,Insight: fuel efficiency,E115: Energy efficient temporal displacement,MIP full,Elise,2,,I can be more aware of how much energy I use when time traveling,13465,,,,Is there a way to make it so that the user doesn't have to drive at 88 mph? Very energy inefficient.,https://fhabricator.automatic.co/T13465\n",
      "S132: Audio tone when adapter detects presence of ghosts,Audio tone when adapter detects presence of ghosts,8,3,checked,,Location: driving,E111: Ghostbusting v1,MIP full,Elise,2,,I can bust ghosts more effectively,11111,,,,,https://fhabricator.automatic.co/T11111\n",
      "S140: Systematic/hydromatic/ultramatic quick switcher,Systematic/hydromatic/ultramatic quick switcher,3,2,,,App settings,E55: Beta style refinement,Beta1,Ferrari 500,3,,\"Why, it could be greased lightning!\",13449,,,,,https://fhabricator.automatic.co/T13449\n",
      "S137: Ability to trigger giant robot transformation sequence remotely,Ability to trigger giant robot transformation sequence remotely,13,5,checked,checked,Location: parked,E117: Robot transformation sequence,MIP full,Ferrari 500,2,,\"my car can walk to me, instead of me walking to my car\",13423,,Consider edge case where car is in garage or other height-limited space,,,https://fhabricator.automatic.co/T13423\n",
      "S141: Push notification when nitrous levels low,Push notification when nitrous levels low,3,5,checked,,Fuel level,E112: Racing module v1,Beta1,Ferrari 500,3,,I don't run out of nitrous while I'm street racing,13245,,,,,https://fhabricator.automatic.co/T13245\n",
      "S145: Car (in robot form) will offer a hug when I'm stressed out,Car (in robot form) will offer a hug when I'm stressed out,13,13,,checked,Location: parked,E116: Robot AI (emotional components),Full release,Gremlin,5,,I'll know that I'm not alone and someone loves me,13333,,,,Make sure that adapter gets verbal consent before hugging as not all drivers are huggers,https://fhabricator.automatic.co/T13333\n",
      "S136: Show progress bar as ejector seat initializes,Show progress bar as ejector seat initializes,1,3,checked,,Device connection,E114: Ejector seat support,007/in-beta partnership,Gremlin,4,,I can prepare myself mentally for ejection sequence,93713,,,,,https://fhabricator.automatic.co/T93713\n",
      "S144: Different ghost detection audio tones for different ghost types,Different ghost detection audio tones for different ghost types,3,5,,,Location: driving,E102: Misc improvements to existing features,No hard requirement,Icebox — someday,100,,\"I can easily differentiate between ghouls, poltergeists, specters, and friendly ghosts\",,,,Decide which tones are the most appropriately spooky,,(Enter id in FhabTask)\n",
      "S134: Switch blue shell evasion sequence to manual,Switch blue shell evasion sequence to manual,8,5,checked,checked,App settings,E112: Racing module v1,No hard requirement,Icebox — someday,100,,I can decide how I want to deal with incoming projectiles,32436,,,,,https://fhabricator.automatic.co/T32436\n"
     ]
    }
   ],
   "source": [
    "csv_url = f\"https://airtable.com/v0.3/view/{view_id}/downloadCsv?\"\n",
    "\n",
    "for (k,v) in params.items():\n",
    "    csv_url += k+\"=\"+v+\"&\"\n",
    "csv_url = csv_url[:-1]\n",
    "r = requests.get(csv_url)\n",
    "\n",
    "print(r.text)"
   ]
  },
  {
   "cell_type": "markdown",
   "metadata": {},
   "source": [
    "As you can see, the start of the csv there are `\\xef\\xbb\\xbf` which are the [UTF8 encoded version of the unicode ZERO WIDTH NO-BREAK SPACE U+FEFF](https://stackoverflow.com/a/50131187), this can be resolved by changing the encoding of our response object to `utf-8`."
   ]
  },
  {
   "cell_type": "code",
   "execution_count": 65,
   "metadata": {},
   "outputs": [
    {
     "name": "stdout",
     "output_type": "stream",
     "text": [
      "﻿Story name,User want,Server points,Client points,Built?,Needs review,Facet,Epics,Blocks release,Sprint,Release seq. no.,Blocking stories,So that,FhabTask,P[?],Server eng. tasks,Client eng. tasks,Notes,FhabURL\n",
      "S143: Improve adapter saltwater resistance,Improve adapter saltwater resistance,5,1,,checked,Adapter,E113: Amphibious vehicle support,007/in-beta partnership,Backlog — required,4,,\"in case the adapter gets dropped in the ocean, it still works\",13906,,,,,https://fhabricator.automatic.co/T13906\n",
      "S133: Voiced alert when flux capacitor disconnected from adapter,Voiced alert when flux capacitor disconnected from adapter,5,8,checked,,Device connection,E110: Temporal displacement UX refinements,Beta1,Backlog — required,3,,fewer time travel accidents,12324,,,,,https://fhabricator.automatic.co/T12324\n",
      "S138: Change progress bar graphics for giant robot transformation sequence,Change progress bar graphics for giant robot transformation sequence,2,3,checked,,Global,\"E106: Full release style refinement,E117: Robot transformation sequence\",Full release,Backlog — required,5,,\"the graphics look more \"\"robotic\"\"\",13452,,,,,https://fhabricator.automatic.co/T13452\n",
      "S142: Improved graphics on time travel analytics dashboard,Improved graphics on time travel analytics dashboard,,,,checked,Insight: drive score,E110: Temporal displacement UX refinements,No hard requirement,Backlog — required,100,,I can see all of the aggregated data from my time travel trips at a glance,13987,,,,,https://fhabricator.automatic.co/T13987\n",
      "\"S146: Adapter will say a friendly \"\"Hello!\"\" upon registered driver entering vehicle\",\"Adapter will say a friendly \"\"Hello!\"\" upon registered driver entering vehicle\",3,3,,,Welcome experience,E116: Robot AI (emotional components),MIP MVP,Elise,1,,I'll feel more emotionally connected to my car,13872,,,,,https://fhabricator.automatic.co/T13872\n",
      "S139: Adapter warns me when time jump will take >1.21 jigowatts,Adapter warns me when time jump will take >1.21 jigowatts,5,5,checked,checked,Insight: fuel efficiency,E115: Energy efficient temporal displacement,MIP full,Elise,2,,I can be more aware of how much energy I use when time traveling,13465,,,,Is there a way to make it so that the user doesn't have to drive at 88 mph? Very energy inefficient.,https://fhabricator.automatic.co/T13465\n",
      "S132: Audio tone when adapter detects presence of ghosts,Audio tone when adapter detects presence of ghosts,8,3,checked,,Location: driving,E111: Ghostbusting v1,MIP full,Elise,2,,I can bust ghosts more effectively,11111,,,,,https://fhabricator.automatic.co/T11111\n",
      "S140: Systematic/hydromatic/ultramatic quick switcher,Systematic/hydromatic/ultramatic quick switcher,3,2,,,App settings,E55: Beta style refinement,Beta1,Ferrari 500,3,,\"Why, it could be greased lightning!\",13449,,,,,https://fhabricator.automatic.co/T13449\n",
      "S137: Ability to trigger giant robot transformation sequence remotely,Ability to trigger giant robot transformation sequence remotely,13,5,checked,checked,Location: parked,E117: Robot transformation sequence,MIP full,Ferrari 500,2,,\"my car can walk to me, instead of me walking to my car\",13423,,Consider edge case where car is in garage or other height-limited space,,,https://fhabricator.automatic.co/T13423\n",
      "S141: Push notification when nitrous levels low,Push notification when nitrous levels low,3,5,checked,,Fuel level,E112: Racing module v1,Beta1,Ferrari 500,3,,I don't run out of nitrous while I'm street racing,13245,,,,,https://fhabricator.automatic.co/T13245\n",
      "S145: Car (in robot form) will offer a hug when I'm stressed out,Car (in robot form) will offer a hug when I'm stressed out,13,13,,checked,Location: parked,E116: Robot AI (emotional components),Full release,Gremlin,5,,I'll know that I'm not alone and someone loves me,13333,,,,Make sure that adapter gets verbal consent before hugging as not all drivers are huggers,https://fhabricator.automatic.co/T13333\n",
      "S136: Show progress bar as ejector seat initializes,Show progress bar as ejector seat initializes,1,3,checked,,Device connection,E114: Ejector seat support,007/in-beta partnership,Gremlin,4,,I can prepare myself mentally for ejection sequence,93713,,,,,https://fhabricator.automatic.co/T93713\n",
      "S144: Different ghost detection audio tones for different ghost types,Different ghost detection audio tones for different ghost types,3,5,,,Location: driving,E102: Misc improvements to existing features,No hard requirement,Icebox — someday,100,,\"I can easily differentiate between ghouls, poltergeists, specters, and friendly ghosts\",,,,Decide which tones are the most appropriately spooky,,(Enter id in FhabTask)\n",
      "S134: Switch blue shell evasion sequence to manual,Switch blue shell evasion sequence to manual,8,5,checked,checked,App settings,E112: Racing module v1,No hard requirement,Icebox — someday,100,,I can decide how I want to deal with incoming projectiles,32436,,,,,https://fhabricator.automatic.co/T32436\n"
     ]
    }
   ],
   "source": [
    "r.encoding = \"utf-8\"\n",
    "\n",
    "print(r.text)"
   ]
  },
  {
   "cell_type": "markdown",
   "metadata": {},
   "source": [
    "Now that we have the csv data, we could save it to csv or pass it to other service, or host the code in google function to be used as backup service. Or just save it locally using the `file` package."
   ]
  },
  {
   "cell_type": "code",
   "execution_count": null,
   "metadata": {},
   "outputs": [],
   "source": []
  }
 ],
 "metadata": {
  "kernelspec": {
   "display_name": "Python 3",
   "language": "python",
   "name": "python3"
  },
  "language_info": {
   "codemirror_mode": {
    "name": "ipython",
    "version": 3
   },
   "file_extension": ".py",
   "mimetype": "text/x-python",
   "name": "python",
   "nbconvert_exporter": "python",
   "pygments_lexer": "ipython3",
   "version": "3.8.3"
  }
 },
 "nbformat": 4,
 "nbformat_minor": 4
}
